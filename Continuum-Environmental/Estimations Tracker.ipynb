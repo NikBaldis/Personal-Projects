{
 "cells": [
  {
   "cell_type": "code",
   "execution_count": 20,
   "id": "01b19ce1",
   "metadata": {},
   "outputs": [],
   "source": [
    "from glob import glob\n",
    "\n",
    "import pandas as pd\n",
    "\n",
    "\n",
    "csv_files = glob(r\"C:\\Users\\Nik\\OneDrive - Continuum Environmental Services, Ltd\\Data Analytics_Consulting\\Continuum Data Questions\\Project Datasets\\Drilling\\*.csv\")\n",
    "dataframes = []\n",
    "\n",
    "for file in csv_files:\n",
    "    df = pd.read_csv(filepath_or_buffer=file, on_bad_lines='skip')\n",
    "    dataframes.append(df)\n"
   ]
  },
  {
   "cell_type": "code",
   "execution_count": 21,
   "id": "149fe01d",
   "metadata": {},
   "outputs": [],
   "source": [
    "# Concatenate all dataframes in the 'dataframes' list into a single dataframe\n",
    "all_data = pd.concat(dataframes, ignore_index=True)"
   ]
  },
  {
   "cell_type": "code",
   "execution_count": 22,
   "id": "da985cc0",
   "metadata": {},
   "outputs": [
    {
     "data": {
      "application/vnd.microsoft.datawrangler.viewer.v0+json": {
       "columns": [
        {
         "name": "index",
         "rawType": "int64",
         "type": "integer"
        },
        {
         "name": "DESCRIPTION",
         "rawType": "object",
         "type": "string"
        },
        {
         "name": "ITEM",
         "rawType": "object",
         "type": "unknown"
        },
        {
         "name": "BID QTY",
         "rawType": "object",
         "type": "unknown"
        },
        {
         "name": "U/M",
         "rawType": "object",
         "type": "string"
        },
        {
         "name": "UNIT BID",
         "rawType": "object",
         "type": "string"
        },
        {
         "name": "AMOUNT",
         "rawType": "object",
         "type": "string"
        }
       ],
       "ref": "86c8993d-125a-4f9d-8313-879cc3971d0e",
       "rows": [
        [
         "0",
         "Drill Rig Mobilization (<150')",
         "2.01",
         "1",
         "LS",
         "$15,000.00 ",
         "$15,000.00 "
        ],
        [
         "1",
         "Drill & Complete <150'",
         "2.03",
         "363",
         "LF",
         "$115.00 ",
         "$41,745.00 "
        ],
        [
         "2",
         "Drilling Past Obstruction / Wet Drilling",
         "2.05",
         "1",
         "HR",
         "$875.00 ",
         "$875.00 "
        ],
        [
         "3",
         "Standby",
         "2.06",
         "1",
         "HR",
         "$751.00 ",
         "$751.00 "
        ],
        [
         "4",
         "Abandon Well (Boring Refusal)",
         "2.07",
         "1",
         "LF",
         "$63.00 ",
         "$63.00 "
        ],
        [
         "5",
         "Benching for Drill Rig",
         "2.09",
         "3",
         "EA",
         "$995.00 ",
         "$2,985.00 "
        ],
        [
         "6",
         "Drill Rig Mobilization (<150')",
         "2.01",
         "1",
         "LS",
         "$14,890.00 ",
         "$14,890.00 "
        ],
        [
         "7",
         "Drill & Compete <150'",
         "2.03",
         "690",
         "LF",
         "$82.70 ",
         "$57,063.00 "
        ],
        [
         "8",
         "Drilling Past Obstruction / Wet Drilling",
         "2.05",
         "1",
         "HR",
         "$711.60 ",
         "$711.60 "
        ],
        [
         "9",
         "Standby",
         "2.06",
         "1",
         "HR",
         "$654.50 ",
         "$654.50 "
        ],
        [
         "10",
         "Abandon Well (Boring Refusal)",
         "2.07",
         "1",
         "LF",
         "$54.00 ",
         "$54.00 "
        ],
        [
         "11",
         "Drill Rig Mobilization (<150')",
         "2.01",
         "1",
         "LS",
         "$27,778.03 ",
         "$27,778.03 "
        ],
        [
         "12",
         "Drill & Compete <150' (131.4 is the deepest)",
         "2.03",
         "935",
         "LF",
         "$83.75 ",
         "$78,307.84 "
        ],
        [
         "13",
         "Benching for Drill Rig",
         "2.09",
         "9",
         "EA",
         "$770.74 ",
         "$6,936.64 "
        ],
        [
         "14",
         "Abandon Well (Boring Refusal)",
         "2.07",
         "1",
         "LF",
         "$651.92 ",
         "$651.92 "
        ],
        [
         "15",
         "Aggregate-  GRAVEL IN HERE. SPLIT- ADJUST RATE WHEN QUOTED",
         "2.13",
         "326",
         "Ton",
         "$44.60 ",
         "$14,540.90 "
        ],
        [
         "16",
         "Drill Rig Mobilization (<150')",
         "2.01",
         "1",
         "LS",
         "$30,000.00 ",
         "$30,000.00 "
        ],
        [
         "17",
         "Drill & Compete <150'",
         "2.03",
         "546",
         "LF",
         "$91.00 ",
         "$49,686.00 "
        ],
        [
         "18",
         "Drilling Past Obstruction / Wet Drilling",
         "2.05",
         "0",
         "HR",
         "$875.00 ",
         "$0.00 "
        ],
        [
         "19",
         "Standby",
         "2.06",
         "1",
         "HR",
         "$1,055.00 ",
         "$1,055.00 "
        ],
        [
         "20",
         "Abandon Well (Boring Refusal)",
         "2.07",
         "100",
         "LF",
         "$75.00 ",
         "$7,500.00 "
        ],
        [
         "21",
         "Benching for Drill Rig",
         "2.09",
         "8",
         "EA",
         "$1,075.00 ",
         "$8,600.00 "
        ],
        [
         "22",
         "Drill & Compete <150' (Dual-Stack)",
         "02.03a",
         "117",
         "LF",
         "$105.00 ",
         "$12,285.00 "
        ],
        [
         "23",
         "PP Bonds",
         "4",
         "1",
         "LS",
         "$18,500.00 ",
         "$18,500.00 "
        ],
        [
         "24",
         "Contractor Safety Orientation",
         "2",
         "0",
         "LS",
         "$0.00 ",
         "$0.00 "
        ],
        [
         "25",
         "To AZ Drill Rig Mobilization (<150')",
         "2.01",
         "1",
         "LS",
         "$52,000.00 ",
         "$52,000.00 "
        ],
        [
         "26",
         "NW Gravel",
         "2.13a",
         "833",
         "TON",
         "$44.00 ",
         "$36,652.00 "
        ],
        [
         "27",
         "NW Drill & Compete <150'",
         "2.03",
         "4,393.00",
         "LF",
         "$66.00 ",
         "$289,938.00 "
        ],
        [
         "28",
         "NW Asbestos",
         "3.11",
         "1",
         "LS",
         "$4,500.00 ",
         "$4,500.00 "
        ],
        [
         "29",
         "Drill Rig Mobilization (<150') (NW-BF)",
         "2.02",
         "1",
         "LS",
         "$13,200.00 ",
         "$13,200.00 "
        ],
        [
         "30",
         "BF Gravel",
         "2.13b",
         "436",
         "TON",
         "$49.00 ",
         "$21,364.00 "
        ],
        [
         "31",
         "BF Drill & Compete <150'",
         "02.03a",
         "2,295.00",
         "LF",
         "$66.00 ",
         "$151,470.00 "
        ],
        [
         "32",
         "Drill Rig Mobilization (<150') (BF-MRLF)",
         "02.02b",
         "1",
         "LS",
         "$13,200.00 ",
         "$13,200.00 "
        ],
        [
         "33",
         "Marana Gravel",
         "2.13c",
         "120",
         "TON",
         "$58.00 ",
         "$6,960.00 "
        ],
        [
         "34",
         "MRLF Drill & Compete <150'",
         "02.03b",
         "632",
         "LF",
         "$68.00 ",
         "$42,976.00 "
        ],
        [
         "35",
         "Drill Rig Mobilization (<150') (MRLF-PD)",
         "02.02c",
         "1",
         "LS",
         "$13,200.00 ",
         "$13,200.00 "
        ],
        [
         "36",
         "PD Gravel",
         "2.13d",
         "102",
         "TON",
         "$83.00 ",
         "$8,466.00 "
        ],
        [
         "37",
         "PD Drill & Compete <150'",
         "02.03c",
         "382",
         "LF",
         "$71.00 ",
         "$27,122.00 "
        ],
        [
         "38",
         "BF Asbestos",
         "3.13",
         "1",
         "LS",
         "$4,500.00 ",
         "$4,500.00 "
        ],
        [
         "39",
         "Drill Rig Mobilization (<150')",
         "2.01",
         "1",
         "LS",
         "$24,000.00 ",
         "$24,000.00 "
        ],
        [
         "40",
         "Drill & Compete <150'",
         "2.03",
         "927",
         "LF",
         "$82.00 ",
         "$76,014.00 "
        ],
        [
         "41",
         "Drilling Past Obstruction / Wet Drilling",
         "2.05",
         "1",
         "HR",
         "$812.00 ",
         "$812.00 "
        ],
        [
         "42",
         "Standby",
         "2.06",
         "1",
         "HR",
         "$795.00 ",
         "$795.00 "
        ],
        [
         "43",
         "Abandon Well (Boring Refusal)",
         "2.07",
         "100",
         "LF",
         "$66.00 ",
         "$6,600.00 "
        ],
        [
         "44",
         "Benching for Drill Rig",
         "2.09",
         "14",
         "EA",
         "$1,015.00 ",
         "$14,210.00 "
        ],
        [
         "45",
         "Aggregate- Gravel",
         "2.13",
         "400",
         "Ton",
         "$53.00 ",
         "$21,200.00 "
        ],
        [
         "46",
         "Drill Rig Mobilization (<150')",
         "2.01",
         "1",
         "LS",
         "$27,200.00 ",
         "$27,200.00 "
        ],
        [
         "47",
         "Drill & Compete <120'",
         "2.03",
         "662",
         "LF",
         "$81.00 ",
         "$53,622.00 "
        ],
        [
         "48",
         "Drill & Compete >120'",
         "02.03a",
         "522",
         "LF",
         "$81.00 ",
         "$42,282.00 "
        ],
        [
         "49",
         "Drilling Past Obstruction / Wet Drilling",
         "2.05",
         "1",
         "HR",
         "$845.00 ",
         "$845.00 "
        ]
       ],
       "shape": {
        "columns": 6,
        "rows": 96
       }
      },
      "text/html": [
       "<div>\n",
       "<style scoped>\n",
       "    .dataframe tbody tr th:only-of-type {\n",
       "        vertical-align: middle;\n",
       "    }\n",
       "\n",
       "    .dataframe tbody tr th {\n",
       "        vertical-align: top;\n",
       "    }\n",
       "\n",
       "    .dataframe thead th {\n",
       "        text-align: right;\n",
       "    }\n",
       "</style>\n",
       "<table border=\"1\" class=\"dataframe\">\n",
       "  <thead>\n",
       "    <tr style=\"text-align: right;\">\n",
       "      <th></th>\n",
       "      <th>DESCRIPTION</th>\n",
       "      <th>ITEM</th>\n",
       "      <th>BID QTY</th>\n",
       "      <th>U/M</th>\n",
       "      <th>UNIT BID</th>\n",
       "      <th>AMOUNT</th>\n",
       "    </tr>\n",
       "  </thead>\n",
       "  <tbody>\n",
       "    <tr>\n",
       "      <th>0</th>\n",
       "      <td>Drill Rig Mobilization (&lt;150')</td>\n",
       "      <td>2.01</td>\n",
       "      <td>1</td>\n",
       "      <td>LS</td>\n",
       "      <td>$15,000.00</td>\n",
       "      <td>$15,000.00</td>\n",
       "    </tr>\n",
       "    <tr>\n",
       "      <th>1</th>\n",
       "      <td>Drill &amp; Complete &lt;150'</td>\n",
       "      <td>2.03</td>\n",
       "      <td>363</td>\n",
       "      <td>LF</td>\n",
       "      <td>$115.00</td>\n",
       "      <td>$41,745.00</td>\n",
       "    </tr>\n",
       "    <tr>\n",
       "      <th>2</th>\n",
       "      <td>Drilling Past Obstruction / Wet Drilling</td>\n",
       "      <td>2.05</td>\n",
       "      <td>1</td>\n",
       "      <td>HR</td>\n",
       "      <td>$875.00</td>\n",
       "      <td>$875.00</td>\n",
       "    </tr>\n",
       "    <tr>\n",
       "      <th>3</th>\n",
       "      <td>Standby</td>\n",
       "      <td>2.06</td>\n",
       "      <td>1</td>\n",
       "      <td>HR</td>\n",
       "      <td>$751.00</td>\n",
       "      <td>$751.00</td>\n",
       "    </tr>\n",
       "    <tr>\n",
       "      <th>4</th>\n",
       "      <td>Abandon Well (Boring Refusal)</td>\n",
       "      <td>2.07</td>\n",
       "      <td>1</td>\n",
       "      <td>LF</td>\n",
       "      <td>$63.00</td>\n",
       "      <td>$63.00</td>\n",
       "    </tr>\n",
       "    <tr>\n",
       "      <th>...</th>\n",
       "      <td>...</td>\n",
       "      <td>...</td>\n",
       "      <td>...</td>\n",
       "      <td>...</td>\n",
       "      <td>...</td>\n",
       "      <td>...</td>\n",
       "    </tr>\n",
       "    <tr>\n",
       "      <th>91</th>\n",
       "      <td>Drill Rig Mobilization (&lt;150') Site to Site</td>\n",
       "      <td>2.02</td>\n",
       "      <td>0</td>\n",
       "      <td>LS</td>\n",
       "      <td>$13,450.00</td>\n",
       "      <td>$0.00</td>\n",
       "    </tr>\n",
       "    <tr>\n",
       "      <th>92</th>\n",
       "      <td>Drill &amp; Compete &lt;150'</td>\n",
       "      <td>2.03</td>\n",
       "      <td>321</td>\n",
       "      <td>LF</td>\n",
       "      <td>$91.00</td>\n",
       "      <td>$29,211.00</td>\n",
       "    </tr>\n",
       "    <tr>\n",
       "      <th>93</th>\n",
       "      <td>Standby</td>\n",
       "      <td>2.06</td>\n",
       "      <td>1</td>\n",
       "      <td>HR</td>\n",
       "      <td>$791.00</td>\n",
       "      <td>$791.00</td>\n",
       "    </tr>\n",
       "    <tr>\n",
       "      <th>94</th>\n",
       "      <td>Abandon Well (Boring Refusal)</td>\n",
       "      <td>2.07</td>\n",
       "      <td>100</td>\n",
       "      <td>LF</td>\n",
       "      <td>$74.00</td>\n",
       "      <td>$7,400.00</td>\n",
       "    </tr>\n",
       "    <tr>\n",
       "      <th>95</th>\n",
       "      <td>Benching for Drill Rig</td>\n",
       "      <td>2.09</td>\n",
       "      <td>6</td>\n",
       "      <td>EA</td>\n",
       "      <td>$1,026.00</td>\n",
       "      <td>$6,156.00</td>\n",
       "    </tr>\n",
       "  </tbody>\n",
       "</table>\n",
       "<p>96 rows × 6 columns</p>\n",
       "</div>"
      ],
      "text/plain": [
       "                                    DESCRIPTION  ITEM BID QTY U/M  \\\n",
       "0                Drill Rig Mobilization (<150')  2.01       1  LS   \n",
       "1                        Drill & Complete <150'  2.03     363  LF   \n",
       "2      Drilling Past Obstruction / Wet Drilling  2.05       1  HR   \n",
       "3                                       Standby  2.06       1  HR   \n",
       "4                 Abandon Well (Boring Refusal)  2.07       1  LF   \n",
       "..                                          ...   ...     ...  ..   \n",
       "91  Drill Rig Mobilization (<150') Site to Site  2.02       0  LS   \n",
       "92                        Drill & Compete <150'  2.03     321  LF   \n",
       "93                                      Standby  2.06       1  HR   \n",
       "94                Abandon Well (Boring Refusal)  2.07     100  LF   \n",
       "95                       Benching for Drill Rig  2.09       6  EA   \n",
       "\n",
       "       UNIT BID       AMOUNT  \n",
       "0   $15,000.00   $15,000.00   \n",
       "1      $115.00   $41,745.00   \n",
       "2      $875.00      $875.00   \n",
       "3      $751.00      $751.00   \n",
       "4       $63.00       $63.00   \n",
       "..          ...          ...  \n",
       "91  $13,450.00        $0.00   \n",
       "92      $91.00   $29,211.00   \n",
       "93     $791.00      $791.00   \n",
       "94      $74.00    $7,400.00   \n",
       "95   $1,026.00    $6,156.00   \n",
       "\n",
       "[96 rows x 6 columns]"
      ]
     },
     "execution_count": 22,
     "metadata": {},
     "output_type": "execute_result"
    }
   ],
   "source": [
    "all_data"
   ]
  },
  {
   "cell_type": "code",
   "execution_count": 23,
   "id": "57a85265",
   "metadata": {},
   "outputs": [
    {
     "name": "stderr",
     "output_type": "stream",
     "text": [
      "C:\\Users\\Nik\\AppData\\Local\\Temp\\ipykernel_20560\\1088600066.py:10: FutureWarning: DataFrame.applymap has been deprecated. Use DataFrame.map instead.\n",
      "  all_data = all_data.applymap(lambda x: str(x).replace(',', ''))\n",
      "C:\\Users\\Nik\\AppData\\Local\\Temp\\ipykernel_20560\\1088600066.py:18: FutureWarning: DataFrame.applymap has been deprecated. Use DataFrame.map instead.\n",
      "  all_data = all_data.applymap(lambda x: x.replace('.00', '') if isinstance(x, str) else x)\n"
     ]
    },
    {
     "data": {
      "application/vnd.microsoft.datawrangler.viewer.v0+json": {
       "columns": [
        {
         "name": "index",
         "rawType": "int64",
         "type": "integer"
        },
        {
         "name": "DESCRIPTION",
         "rawType": "object",
         "type": "string"
        },
        {
         "name": "ITEM",
         "rawType": "object",
         "type": "string"
        },
        {
         "name": "BID QTY",
         "rawType": "int64",
         "type": "integer"
        },
        {
         "name": "U/M",
         "rawType": "object",
         "type": "string"
        },
        {
         "name": "UNIT BID",
         "rawType": "float64",
         "type": "float"
        },
        {
         "name": "AMOUNT",
         "rawType": "float64",
         "type": "float"
        }
       ],
       "ref": "7e2fc2a2-1890-4c03-9be9-1e5e30e0bdc7",
       "rows": [
        [
         "0",
         "Drill Rig Mobilization (<150')",
         "2.01",
         "1",
         "LS",
         "15000.0",
         "15000.0"
        ],
        [
         "1",
         "Drill & Complete <150'",
         "2.03",
         "363",
         "LF",
         "115.0",
         "41745.0"
        ],
        [
         "2",
         "Drilling Past Obstruction / Wet Drilling",
         "2.05",
         "1",
         "HR",
         "875.0",
         "875.0"
        ],
        [
         "3",
         "Standby",
         "2.06",
         "1",
         "HR",
         "751.0",
         "751.0"
        ],
        [
         "4",
         "Abandon Well (Boring Refusal)",
         "2.07",
         "1",
         "LF",
         "63.0",
         "63.0"
        ]
       ],
       "shape": {
        "columns": 6,
        "rows": 5
       }
      },
      "text/html": [
       "<div>\n",
       "<style scoped>\n",
       "    .dataframe tbody tr th:only-of-type {\n",
       "        vertical-align: middle;\n",
       "    }\n",
       "\n",
       "    .dataframe tbody tr th {\n",
       "        vertical-align: top;\n",
       "    }\n",
       "\n",
       "    .dataframe thead th {\n",
       "        text-align: right;\n",
       "    }\n",
       "</style>\n",
       "<table border=\"1\" class=\"dataframe\">\n",
       "  <thead>\n",
       "    <tr style=\"text-align: right;\">\n",
       "      <th></th>\n",
       "      <th>DESCRIPTION</th>\n",
       "      <th>ITEM</th>\n",
       "      <th>BID QTY</th>\n",
       "      <th>U/M</th>\n",
       "      <th>UNIT BID</th>\n",
       "      <th>AMOUNT</th>\n",
       "    </tr>\n",
       "  </thead>\n",
       "  <tbody>\n",
       "    <tr>\n",
       "      <th>0</th>\n",
       "      <td>Drill Rig Mobilization (&lt;150')</td>\n",
       "      <td>2.01</td>\n",
       "      <td>1</td>\n",
       "      <td>LS</td>\n",
       "      <td>15000.0</td>\n",
       "      <td>15000.0</td>\n",
       "    </tr>\n",
       "    <tr>\n",
       "      <th>1</th>\n",
       "      <td>Drill &amp; Complete &lt;150'</td>\n",
       "      <td>2.03</td>\n",
       "      <td>363</td>\n",
       "      <td>LF</td>\n",
       "      <td>115.0</td>\n",
       "      <td>41745.0</td>\n",
       "    </tr>\n",
       "    <tr>\n",
       "      <th>2</th>\n",
       "      <td>Drilling Past Obstruction / Wet Drilling</td>\n",
       "      <td>2.05</td>\n",
       "      <td>1</td>\n",
       "      <td>HR</td>\n",
       "      <td>875.0</td>\n",
       "      <td>875.0</td>\n",
       "    </tr>\n",
       "    <tr>\n",
       "      <th>3</th>\n",
       "      <td>Standby</td>\n",
       "      <td>2.06</td>\n",
       "      <td>1</td>\n",
       "      <td>HR</td>\n",
       "      <td>751.0</td>\n",
       "      <td>751.0</td>\n",
       "    </tr>\n",
       "    <tr>\n",
       "      <th>4</th>\n",
       "      <td>Abandon Well (Boring Refusal)</td>\n",
       "      <td>2.07</td>\n",
       "      <td>1</td>\n",
       "      <td>LF</td>\n",
       "      <td>63.0</td>\n",
       "      <td>63.0</td>\n",
       "    </tr>\n",
       "  </tbody>\n",
       "</table>\n",
       "</div>"
      ],
      "text/plain": [
       "                                DESCRIPTION  ITEM  BID QTY U/M  UNIT BID  \\\n",
       "0            Drill Rig Mobilization (<150')  2.01        1  LS   15000.0   \n",
       "1                    Drill & Complete <150'  2.03      363  LF     115.0   \n",
       "2  Drilling Past Obstruction / Wet Drilling  2.05        1  HR     875.0   \n",
       "3                                   Standby  2.06        1  HR     751.0   \n",
       "4             Abandon Well (Boring Refusal)  2.07        1  LF      63.0   \n",
       "\n",
       "    AMOUNT  \n",
       "0  15000.0  \n",
       "1  41745.0  \n",
       "2    875.0  \n",
       "3    751.0  \n",
       "4     63.0  "
      ]
     },
     "execution_count": 23,
     "metadata": {},
     "output_type": "execute_result"
    }
   ],
   "source": [
    "\"\"\"\n",
    "Cell generated by Data Wrangler.\n",
    "\"\"\"\n",
    "def clean_data(all_data):\n",
    "    # Change DESCRIPTION column type to string\n",
    "    all_data['DESCRIPTION'] = all_data['DESCRIPTION'].astype(str)\n",
    "    # Change column type to string for column: 'ITEM'\n",
    "    all_data = all_data.astype({'ITEM': 'string'})\n",
    "    # Remove commas from all columns\n",
    "    all_data = all_data.applymap(lambda x: str(x).replace(',', ''))\n",
    "    # Ensure the result is a DataFrame\n",
    "    if not isinstance(all_data, pd.DataFrame):\n",
    "        all_data = pd.DataFrame({'Answer': [all_data]})\n",
    "    # Remove \"$\" from 'UNIT BID' and 'AMOUNT' columns\n",
    "    all_data['UNIT BID'] = all_data['UNIT BID'].str.replace('$', '').str.strip()\n",
    "    all_data['AMOUNT'] = all_data['AMOUNT'].str.replace('$', '').str.strip()\n",
    "    # Remove \".00\" from all string columns\n",
    "    all_data = all_data.applymap(lambda x: x.replace('.00', '') if isinstance(x, str) else x)\n",
    "    # Ensure the result is a DataFrame\n",
    "    if not isinstance(all_data, pd.DataFrame):\n",
    "        all_data = pd.DataFrame({'Answer': [all_data]})\n",
    "    # Change column type to float64 for column: 'UNIT BID'\n",
    "    all_data = all_data.astype({'UNIT BID': 'float64'})\n",
    "    # Change column type to float64 for column: 'AMOUNT'\n",
    "    all_data = all_data.astype({'AMOUNT': 'float64'})\n",
    "    # Change column type to int64 for column: 'BID QTY'\n",
    "    all_data = all_data.astype({'BID QTY': 'int64'})\n",
    "    return all_data\n",
    "\n",
    "all_data_clean = clean_data(all_data.copy())\n",
    "all_data_clean.head()"
   ]
  }
 ],
 "metadata": {
  "kernelspec": {
   "display_name": ".venv",
   "language": "python",
   "name": "python3"
  },
  "language_info": {
   "codemirror_mode": {
    "name": "ipython",
    "version": 3
   },
   "file_extension": ".py",
   "mimetype": "text/x-python",
   "name": "python",
   "nbconvert_exporter": "python",
   "pygments_lexer": "ipython3",
   "version": "3.13.3"
  }
 },
 "nbformat": 4,
 "nbformat_minor": 5
}
