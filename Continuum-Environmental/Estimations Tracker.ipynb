{
 "cells": [
  {
   "cell_type": "markdown",
   "id": "47447a59",
   "metadata": {},
   "source": [
    "Find Drill CSVs and put to list"
   ]
  },
  {
   "cell_type": "code",
   "execution_count": null,
   "id": "01b19ce1",
   "metadata": {},
   "outputs": [],
   "source": [
    "from glob import glob\n",
    "\n",
    "import pandas as pd\n",
    "\n",
    "\n",
    "drill_csv_files = glob(r\"C:\\Users\\Nik\\OneDrive - Continuum Environmental Services, Ltd\\Data Analytics_Consulting\\Continuum Data Questions\\Project Datasets\\Drilling\\*.csv\")\n",
    "dataframes_drill = []\n",
    "\n",
    "for file in drill_csv_files:\n",
    "    df = pd.read_csv(filepath_or_buffer=file, on_bad_lines='skip')\n",
    "    dataframes_drill.append(df)\n"
   ]
  },
  {
   "cell_type": "markdown",
   "id": "4ef168ac",
   "metadata": {},
   "source": [
    "Concatenate all dataframes in the 'dataframes_drill' list into a single dataframe\n"
   ]
  },
  {
   "cell_type": "code",
   "execution_count": 27,
   "id": "149fe01d",
   "metadata": {},
   "outputs": [],
   "source": [
    "all_drill_data = pd.concat(dataframes_drill, ignore_index=True)"
   ]
  },
  {
   "cell_type": "code",
   "execution_count": 28,
   "id": "da985cc0",
   "metadata": {},
   "outputs": [
    {
     "data": {
      "application/vnd.microsoft.datawrangler.viewer.v0+json": {
       "columns": [
        {
         "name": "index",
         "rawType": "int64",
         "type": "integer"
        },
        {
         "name": "DESCRIPTION",
         "rawType": "object",
         "type": "string"
        },
        {
         "name": "ITEM",
         "rawType": "object",
         "type": "unknown"
        },
        {
         "name": "BID QTY",
         "rawType": "object",
         "type": "unknown"
        },
        {
         "name": "U/M",
         "rawType": "object",
         "type": "string"
        },
        {
         "name": "UNIT BID",
         "rawType": "object",
         "type": "string"
        },
        {
         "name": "AMOUNT",
         "rawType": "object",
         "type": "string"
        }
       ],
       "ref": "2e85318b-b6b9-4952-87d3-6b9c66482246",
       "rows": [
        [
         "0",
         "Drill Rig Mobilization (<150')",
         "2.01",
         "1",
         "LS",
         "$15,000.00 ",
         "$15,000.00 "
        ],
        [
         "1",
         "Drill & Complete <150'",
         "2.03",
         "363",
         "LF",
         "$115.00 ",
         "$41,745.00 "
        ],
        [
         "2",
         "Drilling Past Obstruction / Wet Drilling",
         "2.05",
         "1",
         "HR",
         "$875.00 ",
         "$875.00 "
        ],
        [
         "3",
         "Standby",
         "2.06",
         "1",
         "HR",
         "$751.00 ",
         "$751.00 "
        ],
        [
         "4",
         "Abandon Well (Boring Refusal)",
         "2.07",
         "1",
         "LF",
         "$63.00 ",
         "$63.00 "
        ],
        [
         "5",
         "Benching for Drill Rig",
         "2.09",
         "3",
         "EA",
         "$995.00 ",
         "$2,985.00 "
        ],
        [
         "6",
         "Drill Rig Mobilization (<150')",
         "2.01",
         "1",
         "LS",
         "$14,890.00 ",
         "$14,890.00 "
        ],
        [
         "7",
         "Drill & Compete <150'",
         "2.03",
         "690",
         "LF",
         "$82.70 ",
         "$57,063.00 "
        ],
        [
         "8",
         "Drilling Past Obstruction / Wet Drilling",
         "2.05",
         "1",
         "HR",
         "$711.60 ",
         "$711.60 "
        ],
        [
         "9",
         "Standby",
         "2.06",
         "1",
         "HR",
         "$654.50 ",
         "$654.50 "
        ],
        [
         "10",
         "Abandon Well (Boring Refusal)",
         "2.07",
         "1",
         "LF",
         "$54.00 ",
         "$54.00 "
        ],
        [
         "11",
         "Drill Rig Mobilization (<150')",
         "2.01",
         "1",
         "LS",
         "$27,778.03 ",
         "$27,778.03 "
        ],
        [
         "12",
         "Drill & Compete <150' (131.4 is the deepest)",
         "2.03",
         "935",
         "LF",
         "$83.75 ",
         "$78,307.84 "
        ],
        [
         "13",
         "Benching for Drill Rig",
         "2.09",
         "9",
         "EA",
         "$770.74 ",
         "$6,936.64 "
        ],
        [
         "14",
         "Abandon Well (Boring Refusal)",
         "2.07",
         "1",
         "LF",
         "$651.92 ",
         "$651.92 "
        ],
        [
         "15",
         "Aggregate-  GRAVEL IN HERE. SPLIT- ADJUST RATE WHEN QUOTED",
         "2.13",
         "326",
         "Ton",
         "$44.60 ",
         "$14,540.90 "
        ],
        [
         "16",
         "Drill Rig Mobilization (<150')",
         "2.01",
         "1",
         "LS",
         "$30,000.00 ",
         "$30,000.00 "
        ],
        [
         "17",
         "Drill & Compete <150'",
         "2.03",
         "546",
         "LF",
         "$91.00 ",
         "$49,686.00 "
        ],
        [
         "18",
         "Drilling Past Obstruction / Wet Drilling",
         "2.05",
         "0",
         "HR",
         "$875.00 ",
         "$0.00 "
        ],
        [
         "19",
         "Standby",
         "2.06",
         "1",
         "HR",
         "$1,055.00 ",
         "$1,055.00 "
        ],
        [
         "20",
         "Abandon Well (Boring Refusal)",
         "2.07",
         "100",
         "LF",
         "$75.00 ",
         "$7,500.00 "
        ],
        [
         "21",
         "Benching for Drill Rig",
         "2.09",
         "8",
         "EA",
         "$1,075.00 ",
         "$8,600.00 "
        ],
        [
         "22",
         "Drill & Compete <150' (Dual-Stack)",
         "02.03a",
         "117",
         "LF",
         "$105.00 ",
         "$12,285.00 "
        ],
        [
         "23",
         "PP Bonds",
         "4",
         "1",
         "LS",
         "$18,500.00 ",
         "$18,500.00 "
        ],
        [
         "24",
         "Contractor Safety Orientation",
         "2",
         "0",
         "LS",
         "$0.00 ",
         "$0.00 "
        ],
        [
         "25",
         "To AZ Drill Rig Mobilization (<150')",
         "2.01",
         "1",
         "LS",
         "$52,000.00 ",
         "$52,000.00 "
        ],
        [
         "26",
         "NW Gravel",
         "2.13a",
         "833",
         "TON",
         "$44.00 ",
         "$36,652.00 "
        ],
        [
         "27",
         "NW Drill & Compete <150'",
         "2.03",
         "4,393.00",
         "LF",
         "$66.00 ",
         "$289,938.00 "
        ],
        [
         "28",
         "NW Asbestos",
         "3.11",
         "1",
         "LS",
         "$4,500.00 ",
         "$4,500.00 "
        ],
        [
         "29",
         "Drill Rig Mobilization (<150') (NW-BF)",
         "2.02",
         "1",
         "LS",
         "$13,200.00 ",
         "$13,200.00 "
        ],
        [
         "30",
         "BF Gravel",
         "2.13b",
         "436",
         "TON",
         "$49.00 ",
         "$21,364.00 "
        ],
        [
         "31",
         "BF Drill & Compete <150'",
         "02.03a",
         "2,295.00",
         "LF",
         "$66.00 ",
         "$151,470.00 "
        ],
        [
         "32",
         "Drill Rig Mobilization (<150') (BF-MRLF)",
         "02.02b",
         "1",
         "LS",
         "$13,200.00 ",
         "$13,200.00 "
        ],
        [
         "33",
         "Marana Gravel",
         "2.13c",
         "120",
         "TON",
         "$58.00 ",
         "$6,960.00 "
        ],
        [
         "34",
         "MRLF Drill & Compete <150'",
         "02.03b",
         "632",
         "LF",
         "$68.00 ",
         "$42,976.00 "
        ],
        [
         "35",
         "Drill Rig Mobilization (<150') (MRLF-PD)",
         "02.02c",
         "1",
         "LS",
         "$13,200.00 ",
         "$13,200.00 "
        ],
        [
         "36",
         "PD Gravel",
         "2.13d",
         "102",
         "TON",
         "$83.00 ",
         "$8,466.00 "
        ],
        [
         "37",
         "PD Drill & Compete <150'",
         "02.03c",
         "382",
         "LF",
         "$71.00 ",
         "$27,122.00 "
        ],
        [
         "38",
         "BF Asbestos",
         "3.13",
         "1",
         "LS",
         "$4,500.00 ",
         "$4,500.00 "
        ],
        [
         "39",
         "Drill Rig Mobilization (<150')",
         "2.01",
         "1",
         "LS",
         "$24,000.00 ",
         "$24,000.00 "
        ],
        [
         "40",
         "Drill & Compete <150'",
         "2.03",
         "927",
         "LF",
         "$82.00 ",
         "$76,014.00 "
        ],
        [
         "41",
         "Drilling Past Obstruction / Wet Drilling",
         "2.05",
         "1",
         "HR",
         "$812.00 ",
         "$812.00 "
        ],
        [
         "42",
         "Standby",
         "2.06",
         "1",
         "HR",
         "$795.00 ",
         "$795.00 "
        ],
        [
         "43",
         "Abandon Well (Boring Refusal)",
         "2.07",
         "100",
         "LF",
         "$66.00 ",
         "$6,600.00 "
        ],
        [
         "44",
         "Benching for Drill Rig",
         "2.09",
         "14",
         "EA",
         "$1,015.00 ",
         "$14,210.00 "
        ],
        [
         "45",
         "Aggregate- Gravel",
         "2.13",
         "400",
         "Ton",
         "$53.00 ",
         "$21,200.00 "
        ],
        [
         "46",
         "Drill Rig Mobilization (<150')",
         "2.01",
         "1",
         "LS",
         "$27,200.00 ",
         "$27,200.00 "
        ],
        [
         "47",
         "Drill & Compete <120'",
         "2.03",
         "662",
         "LF",
         "$81.00 ",
         "$53,622.00 "
        ],
        [
         "48",
         "Drill & Compete >120'",
         "02.03a",
         "522",
         "LF",
         "$81.00 ",
         "$42,282.00 "
        ],
        [
         "49",
         "Drilling Past Obstruction / Wet Drilling",
         "2.05",
         "1",
         "HR",
         "$845.00 ",
         "$845.00 "
        ]
       ],
       "shape": {
        "columns": 6,
        "rows": 96
       }
      },
      "text/html": [
       "<div>\n",
       "<style scoped>\n",
       "    .dataframe tbody tr th:only-of-type {\n",
       "        vertical-align: middle;\n",
       "    }\n",
       "\n",
       "    .dataframe tbody tr th {\n",
       "        vertical-align: top;\n",
       "    }\n",
       "\n",
       "    .dataframe thead th {\n",
       "        text-align: right;\n",
       "    }\n",
       "</style>\n",
       "<table border=\"1\" class=\"dataframe\">\n",
       "  <thead>\n",
       "    <tr style=\"text-align: right;\">\n",
       "      <th></th>\n",
       "      <th>DESCRIPTION</th>\n",
       "      <th>ITEM</th>\n",
       "      <th>BID QTY</th>\n",
       "      <th>U/M</th>\n",
       "      <th>UNIT BID</th>\n",
       "      <th>AMOUNT</th>\n",
       "    </tr>\n",
       "  </thead>\n",
       "  <tbody>\n",
       "    <tr>\n",
       "      <th>0</th>\n",
       "      <td>Drill Rig Mobilization (&lt;150')</td>\n",
       "      <td>2.01</td>\n",
       "      <td>1</td>\n",
       "      <td>LS</td>\n",
       "      <td>$15,000.00</td>\n",
       "      <td>$15,000.00</td>\n",
       "    </tr>\n",
       "    <tr>\n",
       "      <th>1</th>\n",
       "      <td>Drill &amp; Complete &lt;150'</td>\n",
       "      <td>2.03</td>\n",
       "      <td>363</td>\n",
       "      <td>LF</td>\n",
       "      <td>$115.00</td>\n",
       "      <td>$41,745.00</td>\n",
       "    </tr>\n",
       "    <tr>\n",
       "      <th>2</th>\n",
       "      <td>Drilling Past Obstruction / Wet Drilling</td>\n",
       "      <td>2.05</td>\n",
       "      <td>1</td>\n",
       "      <td>HR</td>\n",
       "      <td>$875.00</td>\n",
       "      <td>$875.00</td>\n",
       "    </tr>\n",
       "    <tr>\n",
       "      <th>3</th>\n",
       "      <td>Standby</td>\n",
       "      <td>2.06</td>\n",
       "      <td>1</td>\n",
       "      <td>HR</td>\n",
       "      <td>$751.00</td>\n",
       "      <td>$751.00</td>\n",
       "    </tr>\n",
       "    <tr>\n",
       "      <th>4</th>\n",
       "      <td>Abandon Well (Boring Refusal)</td>\n",
       "      <td>2.07</td>\n",
       "      <td>1</td>\n",
       "      <td>LF</td>\n",
       "      <td>$63.00</td>\n",
       "      <td>$63.00</td>\n",
       "    </tr>\n",
       "    <tr>\n",
       "      <th>...</th>\n",
       "      <td>...</td>\n",
       "      <td>...</td>\n",
       "      <td>...</td>\n",
       "      <td>...</td>\n",
       "      <td>...</td>\n",
       "      <td>...</td>\n",
       "    </tr>\n",
       "    <tr>\n",
       "      <th>91</th>\n",
       "      <td>Drill Rig Mobilization (&lt;150') Site to Site</td>\n",
       "      <td>2.02</td>\n",
       "      <td>0</td>\n",
       "      <td>LS</td>\n",
       "      <td>$13,450.00</td>\n",
       "      <td>$0.00</td>\n",
       "    </tr>\n",
       "    <tr>\n",
       "      <th>92</th>\n",
       "      <td>Drill &amp; Compete &lt;150'</td>\n",
       "      <td>2.03</td>\n",
       "      <td>321</td>\n",
       "      <td>LF</td>\n",
       "      <td>$91.00</td>\n",
       "      <td>$29,211.00</td>\n",
       "    </tr>\n",
       "    <tr>\n",
       "      <th>93</th>\n",
       "      <td>Standby</td>\n",
       "      <td>2.06</td>\n",
       "      <td>1</td>\n",
       "      <td>HR</td>\n",
       "      <td>$791.00</td>\n",
       "      <td>$791.00</td>\n",
       "    </tr>\n",
       "    <tr>\n",
       "      <th>94</th>\n",
       "      <td>Abandon Well (Boring Refusal)</td>\n",
       "      <td>2.07</td>\n",
       "      <td>100</td>\n",
       "      <td>LF</td>\n",
       "      <td>$74.00</td>\n",
       "      <td>$7,400.00</td>\n",
       "    </tr>\n",
       "    <tr>\n",
       "      <th>95</th>\n",
       "      <td>Benching for Drill Rig</td>\n",
       "      <td>2.09</td>\n",
       "      <td>6</td>\n",
       "      <td>EA</td>\n",
       "      <td>$1,026.00</td>\n",
       "      <td>$6,156.00</td>\n",
       "    </tr>\n",
       "  </tbody>\n",
       "</table>\n",
       "<p>96 rows × 6 columns</p>\n",
       "</div>"
      ],
      "text/plain": [
       "                                    DESCRIPTION  ITEM BID QTY U/M  \\\n",
       "0                Drill Rig Mobilization (<150')  2.01       1  LS   \n",
       "1                        Drill & Complete <150'  2.03     363  LF   \n",
       "2      Drilling Past Obstruction / Wet Drilling  2.05       1  HR   \n",
       "3                                       Standby  2.06       1  HR   \n",
       "4                 Abandon Well (Boring Refusal)  2.07       1  LF   \n",
       "..                                          ...   ...     ...  ..   \n",
       "91  Drill Rig Mobilization (<150') Site to Site  2.02       0  LS   \n",
       "92                        Drill & Compete <150'  2.03     321  LF   \n",
       "93                                      Standby  2.06       1  HR   \n",
       "94                Abandon Well (Boring Refusal)  2.07     100  LF   \n",
       "95                       Benching for Drill Rig  2.09       6  EA   \n",
       "\n",
       "       UNIT BID       AMOUNT  \n",
       "0   $15,000.00   $15,000.00   \n",
       "1      $115.00   $41,745.00   \n",
       "2      $875.00      $875.00   \n",
       "3      $751.00      $751.00   \n",
       "4       $63.00       $63.00   \n",
       "..          ...          ...  \n",
       "91  $13,450.00        $0.00   \n",
       "92      $91.00   $29,211.00   \n",
       "93     $791.00      $791.00   \n",
       "94      $74.00    $7,400.00   \n",
       "95   $1,026.00    $6,156.00   \n",
       "\n",
       "[96 rows x 6 columns]"
      ]
     },
     "execution_count": 28,
     "metadata": {},
     "output_type": "execute_result"
    }
   ],
   "source": [
    "all_drill_data"
   ]
  },
  {
   "cell_type": "markdown",
   "id": "e52625e0",
   "metadata": {},
   "source": [
    "Clean Drill Data"
   ]
  },
  {
   "cell_type": "code",
   "execution_count": 29,
   "id": "57a85265",
   "metadata": {},
   "outputs": [
    {
     "name": "stderr",
     "output_type": "stream",
     "text": [
      "C:\\Users\\Nik\\AppData\\Local\\Temp\\ipykernel_20560\\1595628129.py:10: FutureWarning: DataFrame.applymap has been deprecated. Use DataFrame.map instead.\n",
      "  all_drill_data = all_drill_data.applymap(lambda x: str(x).replace(',', ''))\n",
      "C:\\Users\\Nik\\AppData\\Local\\Temp\\ipykernel_20560\\1595628129.py:18: FutureWarning: DataFrame.applymap has been deprecated. Use DataFrame.map instead.\n",
      "  all_drill_data = all_drill_data.applymap(lambda x: x.replace('.00', '') if isinstance(x, str) else x)\n"
     ]
    },
    {
     "data": {
      "application/vnd.microsoft.datawrangler.viewer.v0+json": {
       "columns": [
        {
         "name": "index",
         "rawType": "int64",
         "type": "integer"
        },
        {
         "name": "DESCRIPTION",
         "rawType": "object",
         "type": "string"
        },
        {
         "name": "ITEM",
         "rawType": "object",
         "type": "string"
        },
        {
         "name": "BID QTY",
         "rawType": "int64",
         "type": "integer"
        },
        {
         "name": "U/M",
         "rawType": "object",
         "type": "string"
        },
        {
         "name": "UNIT BID",
         "rawType": "float64",
         "type": "float"
        },
        {
         "name": "AMOUNT",
         "rawType": "float64",
         "type": "float"
        }
       ],
       "ref": "af97f27a-5b59-417f-aaaf-33e4de7662e7",
       "rows": [
        [
         "0",
         "Drill Rig Mobilization (<150')",
         "2.01",
         "1",
         "LS",
         "15000.0",
         "15000.0"
        ],
        [
         "1",
         "Drill & Complete <150'",
         "2.03",
         "363",
         "LF",
         "115.0",
         "41745.0"
        ],
        [
         "2",
         "Drilling Past Obstruction / Wet Drilling",
         "2.05",
         "1",
         "HR",
         "875.0",
         "875.0"
        ],
        [
         "3",
         "Standby",
         "2.06",
         "1",
         "HR",
         "751.0",
         "751.0"
        ],
        [
         "4",
         "Abandon Well (Boring Refusal)",
         "2.07",
         "1",
         "LF",
         "63.0",
         "63.0"
        ]
       ],
       "shape": {
        "columns": 6,
        "rows": 5
       }
      },
      "text/html": [
       "<div>\n",
       "<style scoped>\n",
       "    .dataframe tbody tr th:only-of-type {\n",
       "        vertical-align: middle;\n",
       "    }\n",
       "\n",
       "    .dataframe tbody tr th {\n",
       "        vertical-align: top;\n",
       "    }\n",
       "\n",
       "    .dataframe thead th {\n",
       "        text-align: right;\n",
       "    }\n",
       "</style>\n",
       "<table border=\"1\" class=\"dataframe\">\n",
       "  <thead>\n",
       "    <tr style=\"text-align: right;\">\n",
       "      <th></th>\n",
       "      <th>DESCRIPTION</th>\n",
       "      <th>ITEM</th>\n",
       "      <th>BID QTY</th>\n",
       "      <th>U/M</th>\n",
       "      <th>UNIT BID</th>\n",
       "      <th>AMOUNT</th>\n",
       "    </tr>\n",
       "  </thead>\n",
       "  <tbody>\n",
       "    <tr>\n",
       "      <th>0</th>\n",
       "      <td>Drill Rig Mobilization (&lt;150')</td>\n",
       "      <td>2.01</td>\n",
       "      <td>1</td>\n",
       "      <td>LS</td>\n",
       "      <td>15000.0</td>\n",
       "      <td>15000.0</td>\n",
       "    </tr>\n",
       "    <tr>\n",
       "      <th>1</th>\n",
       "      <td>Drill &amp; Complete &lt;150'</td>\n",
       "      <td>2.03</td>\n",
       "      <td>363</td>\n",
       "      <td>LF</td>\n",
       "      <td>115.0</td>\n",
       "      <td>41745.0</td>\n",
       "    </tr>\n",
       "    <tr>\n",
       "      <th>2</th>\n",
       "      <td>Drilling Past Obstruction / Wet Drilling</td>\n",
       "      <td>2.05</td>\n",
       "      <td>1</td>\n",
       "      <td>HR</td>\n",
       "      <td>875.0</td>\n",
       "      <td>875.0</td>\n",
       "    </tr>\n",
       "    <tr>\n",
       "      <th>3</th>\n",
       "      <td>Standby</td>\n",
       "      <td>2.06</td>\n",
       "      <td>1</td>\n",
       "      <td>HR</td>\n",
       "      <td>751.0</td>\n",
       "      <td>751.0</td>\n",
       "    </tr>\n",
       "    <tr>\n",
       "      <th>4</th>\n",
       "      <td>Abandon Well (Boring Refusal)</td>\n",
       "      <td>2.07</td>\n",
       "      <td>1</td>\n",
       "      <td>LF</td>\n",
       "      <td>63.0</td>\n",
       "      <td>63.0</td>\n",
       "    </tr>\n",
       "  </tbody>\n",
       "</table>\n",
       "</div>"
      ],
      "text/plain": [
       "                                DESCRIPTION  ITEM  BID QTY U/M  UNIT BID  \\\n",
       "0            Drill Rig Mobilization (<150')  2.01        1  LS   15000.0   \n",
       "1                    Drill & Complete <150'  2.03      363  LF     115.0   \n",
       "2  Drilling Past Obstruction / Wet Drilling  2.05        1  HR     875.0   \n",
       "3                                   Standby  2.06        1  HR     751.0   \n",
       "4             Abandon Well (Boring Refusal)  2.07        1  LF      63.0   \n",
       "\n",
       "    AMOUNT  \n",
       "0  15000.0  \n",
       "1  41745.0  \n",
       "2    875.0  \n",
       "3    751.0  \n",
       "4     63.0  "
      ]
     },
     "execution_count": 29,
     "metadata": {},
     "output_type": "execute_result"
    }
   ],
   "source": [
    "\"\"\"\n",
    "Cell generated by Data Wrangler.\n",
    "\"\"\"\n",
    "def clean_data(all_drill_data):\n",
    "    # Change DESCRIPTION column type to string\n",
    "    all_drill_data['DESCRIPTION'] = all_drill_data['DESCRIPTION'].astype(str)\n",
    "    # Change column type to string for column: 'ITEM'\n",
    "    all_drill_data = all_drill_data.astype({'ITEM': 'string'})\n",
    "    # Remove commas from all columns\n",
    "    all_drill_data = all_drill_data.applymap(lambda x: str(x).replace(',', ''))\n",
    "    # Ensure the result is a DataFrame\n",
    "    if not isinstance(all_drill_data, pd.DataFrame):\n",
    "        all_drill_data = pd.DataFrame({'Answer': [all_drill_data]})\n",
    "    # Remove \"$\" from 'UNIT BID' and 'AMOUNT' columns\n",
    "    all_drill_data['UNIT BID'] = all_drill_data['UNIT BID'].str.replace('$', '').str.strip()\n",
    "    all_drill_data['AMOUNT'] = all_drill_data['AMOUNT'].str.replace('$', '').str.strip()\n",
    "    # Remove \".00\" from all string columns\n",
    "    all_drill_data = all_drill_data.applymap(lambda x: x.replace('.00', '') if isinstance(x, str) else x)\n",
    "    # Ensure the result is a DataFrame\n",
    "    if not isinstance(all_drill_data, pd.DataFrame):\n",
    "        all_drill_data = pd.DataFrame({'Answer': [all_drill_data]})\n",
    "    # Change column type to float64 for column: 'UNIT BID'\n",
    "    all_drill_data = all_drill_data.astype({'UNIT BID': 'float64'})\n",
    "    # Change column type to float64 for column: 'AMOUNT'\n",
    "    all_drill_data = all_drill_data.astype({'AMOUNT': 'float64'})\n",
    "    # Change column type to int64 for column: 'BID QTY'\n",
    "    all_drill_data = all_drill_data.astype({'BID QTY': 'int64'})\n",
    "    return all_drill_data\n",
    "\n",
    "all_drill_data_clean = clean_data(all_drill_data.copy())\n",
    "all_drill_data_clean.head()"
   ]
  },
  {
   "cell_type": "markdown",
   "id": "4682184e",
   "metadata": {},
   "source": [
    "Find Pipe CSVs and put to list"
   ]
  },
  {
   "cell_type": "code",
   "execution_count": 41,
   "id": "51c9c063",
   "metadata": {},
   "outputs": [],
   "source": [
    "pipe_csv_files = glob(r\"C:\\Users\\Nik\\OneDrive - Continuum Environmental Services, Ltd\\Data Analytics_Consulting\\Continuum Data Questions\\Project Datasets\\Piping\\*.csv\")\n",
    "dataframes_pipe = []\n",
    "\n",
    "for file in pipe_csv_files:\n",
    "    df = pd.read_csv(filepath_or_buffer=file, on_bad_lines='skip')\n",
    "    dataframes_pipe.append(df)"
   ]
  },
  {
   "cell_type": "markdown",
   "id": "f7e9e375",
   "metadata": {},
   "source": [
    "Concatenate all dataframes in the 'dataframes' list into a single dataframe\n"
   ]
  },
  {
   "cell_type": "code",
   "execution_count": 42,
   "id": "f94e1308",
   "metadata": {},
   "outputs": [],
   "source": [
    "all_pipe_data = pd.concat(dataframes_pipe, ignore_index=True)"
   ]
  },
  {
   "cell_type": "code",
   "execution_count": 43,
   "id": "0b5af8a4",
   "metadata": {},
   "outputs": [
    {
     "data": {
      "application/vnd.microsoft.datawrangler.viewer.v0+json": {
       "columns": [
        {
         "name": "index",
         "rawType": "int64",
         "type": "integer"
        },
        {
         "name": "DESCRIPTION",
         "rawType": "object",
         "type": "unknown"
        },
        {
         "name": "ITEM",
         "rawType": "object",
         "type": "unknown"
        },
        {
         "name": "BID QTY",
         "rawType": "object",
         "type": "unknown"
        },
        {
         "name": "U/M",
         "rawType": "object",
         "type": "unknown"
        },
        {
         "name": "UNIT BID",
         "rawType": "object",
         "type": "unknown"
        },
        {
         "name": "AMOUNT",
         "rawType": "object",
         "type": "unknown"
        },
        {
         "name": "Proposal",
         "rawType": "object",
         "type": "unknown"
        }
       ],
       "ref": "aa83bd50-eaf7-402e-a03b-f72cae939e49",
       "rows": [
        [
         "0",
         "Mobilization - Construction Crew",
         "3.01",
         "1",
         "LS",
         "$10,102.00 ",
         "$10,102.00 ",
         null
        ],
        [
         "1",
         "Seeding (grassing)",
         "3.03",
         "1",
         "AC",
         "$3,938.00 ",
         "$3,938.00 ",
         null
        ],
        [
         "2",
         "Silt Fence and Hay bales (Soil erosion, sediment control)",
         "3.04",
         "1",
         "AC",
         "$1,098.00 ",
         "$1,098.00 ",
         null
        ],
        [
         "3",
         "36\" Condensate Sump (<20' Deep)",
         "4.04",
         "1",
         "EA",
         "$14,026.00 ",
         "$14,026.00 ",
         null
        ],
        [
         "4",
         "Pipeline 6\" (<5' Below Ground)",
         "5.02",
         "704",
         "LF",
         "$29.50 ",
         "$20,768.00 ",
         null
        ],
        [
         "5",
         "Pipeline 18\" (<5' Below Ground)",
         "5.05",
         "905",
         "LF",
         "$33.60 ",
         "$30,408.00 ",
         null
        ],
        [
         "6",
         "2\" Airline SDR9 (Same Trench)",
         "7.01",
         "1,502.00",
         "LF",
         "$1.70 ",
         "$2,553.40 ",
         null
        ],
        [
         "7",
         "4\" Forcemain SDR11 (Common Trench)",
         "7.03",
         "1,934.00",
         "LF",
         "$3.34 ",
         "$6,459.56 ",
         null
        ],
        [
         "8",
         "2\" Airline SDR9 (Separate Trench)",
         "07.01a",
         "432",
         "LF",
         "$25.60 ",
         "$11,059.20 ",
         null
        ],
        [
         "9",
         "Air Release Valve (2\" Air Valve)",
         "7.11",
         "2",
         "EA",
         "$878.00 ",
         "$1,756.00 ",
         null
        ],
        [
         "10",
         "18\" CMP (Road Crossing)",
         "9.03",
         "180",
         "LF",
         "$9.30 ",
         "$1,674.00 ",
         null
        ],
        [
         "11",
         "24\" CMP (Road Crossing)",
         "9.04",
         "120",
         "LF",
         "$11.00 ",
         "$1,320.00 ",
         null
        ],
        [
         "12",
         "<8\" Tie-in to Existing Butt Fuse",
         "10.02",
         "4",
         "EA",
         "$1,035.00 ",
         "$4,140.00 ",
         null
        ],
        [
         "13",
         "14\"-18\" Tie-in to Existing 18\" Flange (12-18\" tie-in)",
         "10.04",
         "1",
         "EA",
         "$2,070.00 ",
         "$2,070.00 ",
         null
        ],
        [
         "14",
         "14\"-18\" Blind Flange Assembly",
         "10.11",
         "2",
         "EA",
         "$410.00 ",
         "$820.00 ",
         null
        ],
        [
         "15",
         "6\"-8\" LCR Tie-in",
         "10.14",
         "1",
         "EA",
         "$835.00 ",
         "$835.00 ",
         null
        ],
        [
         "16",
         "Tie-in to Wellhead",
         "10.18",
         "13",
         "EA",
         "$935.00 ",
         "$12,155.00 ",
         null
        ],
        [
         "17",
         "18\" Butterfly Valve (18\" Header Valve)",
         "12.05",
         "2",
         "EA",
         "$1,484.00 ",
         "$2,968.00 ",
         null
        ],
        [
         "18",
         "Abandon 4\" or 6\" Pipeline E-Fuse (<6\" Abandonment)",
         "13.06",
         "2",
         "EA",
         "$748.00 ",
         "$1,496.00 ",
         null
        ],
        [
         "19",
         "Abandon Existing Well",
         "13.1",
         "1",
         "EA",
         "$664.00 ",
         "$664.00 ",
         null
        ],
        [
         "20",
         "Remote Well Connection (Lateral Tie-In to Well w/ Tee)",
         "13.12",
         "1",
         "EA",
         "$935.00 ",
         "$935.00 ",
         null
        ],
        [
         "21",
         "Mobilization - Construction Crew",
         "3.01",
         "1",
         "LS",
         "$10,200.00 ",
         "$10,200.00 ",
         null
        ],
        [
         "22",
         "Seeding",
         "3.03",
         "1",
         "AC",
         "$4,000.00 ",
         "$4,000.00 ",
         null
        ],
        [
         "23",
         "Silt Fence and Hay bales",
         "3.04",
         "1",
         "AC",
         "$1,100.00 ",
         "$1,100.00 ",
         null
        ],
        [
         "24",
         "Pipeline 6\" (<5' Below Ground)",
         "5.02",
         "667",
         "LF",
         "$35.60 ",
         "$23,745.20 ",
         null
        ],
        [
         "25",
         "2\" Airline SDR9 (Same Trench)",
         "7.01",
         "667",
         "LF",
         "$1.83 ",
         "$1,220.61 ",
         null
        ],
        [
         "26",
         "4\" Forcemain SDR11 (Common Trench)",
         "7.03",
         "667",
         "LF",
         "$3.85 ",
         "$2,567.95 ",
         null
        ],
        [
         "27",
         "18\" CMP (Road Crossing)",
         "9.03",
         "80",
         "LF",
         "$11.50 ",
         "$920.00 ",
         null
        ],
        [
         "28",
         "<8\" Tie-in to Existing Butt Fuse",
         "10.02",
         "4",
         "EA",
         "$1,262.00 ",
         "$5,048.00 ",
         null
        ],
        [
         "29",
         "14\"-18\" Blind Flange Assembly",
         "10.11",
         "2",
         "EA",
         "$488.00 ",
         "$976.00 ",
         null
        ],
        [
         "30",
         "Tie-in to Wellhead",
         "10.18",
         "4",
         "EA",
         "$1,115.00 ",
         "$4,460.00 ",
         null
        ],
        [
         "31",
         "Mobilization - Construction Crew",
         "3.01",
         "1",
         "LS",
         "$12,100.00 ",
         "$12,100.00 ",
         null
        ],
        [
         "32",
         "Pipeline 12\" (<5' Below Ground) (Vacuum Header, combined 12\" and 24\" installs)",
         "5.04",
         "1,910.00",
         "LF",
         "$38.50 ",
         "$73,535.00 ",
         null
        ],
        [
         "33",
         "12\" HDPE Tee (Write-in)",
         "3.2",
         "4",
         "EA",
         "$214.00 ",
         "$856.00 ",
         null
        ],
        [
         "34",
         "4\" Forcemain SDR11 (Common Trench) (4\" HDPE Leachate)",
         "7.03",
         "1,270.00",
         "LF",
         "$3.50 ",
         "$4,445.00 ",
         null
        ],
        [
         "35",
         "2\" Airline SDR9 (Same Trench)",
         "7.01",
         "1,270.00",
         "LF",
         "$1.50 ",
         "$1,905.00 ",
         null
        ],
        [
         "36",
         "10\"-12\" Blind Flange Assembly (12\" flange)",
         "10.1",
         "1",
         "EA",
         "$250.00 ",
         "$250.00 ",
         null
        ],
        [
         "37",
         "4\" Vacuum Stub Ups (Vacuum Riser.  Combined this item for both the 12\" & 24\" installs)",
         "13.29b",
         "30",
         "EA",
         "$170.00 ",
         "$5,100.00 ",
         null
        ],
        [
         "38",
         "4\" FM Stub Ups (Leachate Tee and Riser)",
         "13.29a",
         "17",
         "EA",
         "$134.00 ",
         "$2,278.00 ",
         null
        ],
        [
         "39",
         "2\" Air Stub Ups (Air Tee and Riser, Took out \"& 3\"/4\" FM\")",
         "13.29",
         "17",
         "EA",
         "$121.00 ",
         "$2,057.00 ",
         null
        ],
        [
         "40",
         "Pipeline 24\" (<5' Below Ground) (24\" Vacuum Header)",
         "5.06",
         "1,800.00",
         "LF",
         "$77.00 ",
         "$138,600.00 ",
         null
        ],
        [
         "41",
         "20\"-24\" Blind Flange Assembly (24\" Flange)",
         "10.12",
         "1",
         "EA",
         "$1,119.00 ",
         "$1,119.00 ",
         null
        ],
        [
         "42",
         "24\" 90° Elbow",
         "21.01",
         "2",
         "EA",
         "$790.00 ",
         "$1,580.00 ",
         null
        ],
        [
         "43",
         "24\" Butterfly Valve",
         "12.06",
         "1",
         "EA",
         "$2,625.00 ",
         "$2,625.00 ",
         null
        ],
        [
         "44",
         "24\" Tee and Reduce to 12\"",
         "21.02",
         "2",
         "EA",
         "$790.00 ",
         "$1,580.00 ",
         null
        ],
        [
         "45",
         null,
         null,
         null,
         null,
         null,
         null,
         null
        ],
        [
         "46",
         "Mobilization - Construction Crew",
         "1",
         "1",
         "LS",
         "$11,931.39 ",
         "$11,931.39 ",
         null
        ],
        [
         "47",
         "Stone Columns",
         "2",
         "900",
         "TON",
         "$41.57 ",
         "$37,412.55 ",
         null
        ],
        [
         "48",
         "6\" Solid Pipe Installation (Pipeline 6\" Item)",
         "3",
         "1,410.00",
         "LF",
         "$23.49 ",
         "$33,124.90 ",
         null
        ],
        [
         "49",
         "Perforated Pipe Installation (Copied Costs from Pipeline 6\")",
         "4",
         "2,557.00",
         "LF",
         "$24.54 ",
         "$62,743.25 ",
         null
        ]
       ],
       "shape": {
        "columns": 7,
        "rows": 426
       }
      },
      "text/html": [
       "<div>\n",
       "<style scoped>\n",
       "    .dataframe tbody tr th:only-of-type {\n",
       "        vertical-align: middle;\n",
       "    }\n",
       "\n",
       "    .dataframe tbody tr th {\n",
       "        vertical-align: top;\n",
       "    }\n",
       "\n",
       "    .dataframe thead th {\n",
       "        text-align: right;\n",
       "    }\n",
       "</style>\n",
       "<table border=\"1\" class=\"dataframe\">\n",
       "  <thead>\n",
       "    <tr style=\"text-align: right;\">\n",
       "      <th></th>\n",
       "      <th>DESCRIPTION</th>\n",
       "      <th>ITEM</th>\n",
       "      <th>BID QTY</th>\n",
       "      <th>U/M</th>\n",
       "      <th>UNIT BID</th>\n",
       "      <th>AMOUNT</th>\n",
       "      <th>Proposal</th>\n",
       "    </tr>\n",
       "  </thead>\n",
       "  <tbody>\n",
       "    <tr>\n",
       "      <th>0</th>\n",
       "      <td>Mobilization - Construction Crew</td>\n",
       "      <td>3.01</td>\n",
       "      <td>1</td>\n",
       "      <td>LS</td>\n",
       "      <td>$10,102.00</td>\n",
       "      <td>$10,102.00</td>\n",
       "      <td>NaN</td>\n",
       "    </tr>\n",
       "    <tr>\n",
       "      <th>1</th>\n",
       "      <td>Seeding (grassing)</td>\n",
       "      <td>3.03</td>\n",
       "      <td>1</td>\n",
       "      <td>AC</td>\n",
       "      <td>$3,938.00</td>\n",
       "      <td>$3,938.00</td>\n",
       "      <td>NaN</td>\n",
       "    </tr>\n",
       "    <tr>\n",
       "      <th>2</th>\n",
       "      <td>Silt Fence and Hay bales (Soil erosion, sedime...</td>\n",
       "      <td>3.04</td>\n",
       "      <td>1</td>\n",
       "      <td>AC</td>\n",
       "      <td>$1,098.00</td>\n",
       "      <td>$1,098.00</td>\n",
       "      <td>NaN</td>\n",
       "    </tr>\n",
       "    <tr>\n",
       "      <th>3</th>\n",
       "      <td>36\" Condensate Sump (&lt;20' Deep)</td>\n",
       "      <td>4.04</td>\n",
       "      <td>1</td>\n",
       "      <td>EA</td>\n",
       "      <td>$14,026.00</td>\n",
       "      <td>$14,026.00</td>\n",
       "      <td>NaN</td>\n",
       "    </tr>\n",
       "    <tr>\n",
       "      <th>4</th>\n",
       "      <td>Pipeline 6\" (&lt;5' Below Ground)</td>\n",
       "      <td>5.02</td>\n",
       "      <td>704</td>\n",
       "      <td>LF</td>\n",
       "      <td>$29.50</td>\n",
       "      <td>$20,768.00</td>\n",
       "      <td>NaN</td>\n",
       "    </tr>\n",
       "    <tr>\n",
       "      <th>...</th>\n",
       "      <td>...</td>\n",
       "      <td>...</td>\n",
       "      <td>...</td>\n",
       "      <td>...</td>\n",
       "      <td>...</td>\n",
       "      <td>...</td>\n",
       "      <td>...</td>\n",
       "    </tr>\n",
       "    <tr>\n",
       "      <th>421</th>\n",
       "      <td>Extraction Wellhead Sump for 6\" collector (Mod...</td>\n",
       "      <td>13.37</td>\n",
       "      <td>1</td>\n",
       "      <td>EA</td>\n",
       "      <td>$4,609.00</td>\n",
       "      <td>$4,609.00</td>\n",
       "      <td>NaN</td>\n",
       "    </tr>\n",
       "    <tr>\n",
       "      <th>422</th>\n",
       "      <td>Flare Abandonment</td>\n",
       "      <td>13.38</td>\n",
       "      <td>3</td>\n",
       "      <td>Day</td>\n",
       "      <td>$10,638.00</td>\n",
       "      <td>$31,914.00</td>\n",
       "      <td>NaN</td>\n",
       "    </tr>\n",
       "    <tr>\n",
       "      <th>423</th>\n",
       "      <td>Crane Rental</td>\n",
       "      <td>13.38a</td>\n",
       "      <td>2</td>\n",
       "      <td>Day</td>\n",
       "      <td>$4,435.00</td>\n",
       "      <td>$8,870.00</td>\n",
       "      <td>NaN</td>\n",
       "    </tr>\n",
       "    <tr>\n",
       "      <th>424</th>\n",
       "      <td>Lowboy</td>\n",
       "      <td>13.38b</td>\n",
       "      <td>2</td>\n",
       "      <td>Day</td>\n",
       "      <td>$1,478.00</td>\n",
       "      <td>$2,956.00</td>\n",
       "      <td>NaN</td>\n",
       "    </tr>\n",
       "    <tr>\n",
       "      <th>425</th>\n",
       "      <td>6\" Leachate Collector</td>\n",
       "      <td>13.39</td>\n",
       "      <td>250</td>\n",
       "      <td>LF</td>\n",
       "      <td>$46.00</td>\n",
       "      <td>$11,500.00</td>\n",
       "      <td>NaN</td>\n",
       "    </tr>\n",
       "  </tbody>\n",
       "</table>\n",
       "<p>426 rows × 7 columns</p>\n",
       "</div>"
      ],
      "text/plain": [
       "                                           DESCRIPTION    ITEM BID QTY  U/M  \\\n",
       "0                     Mobilization - Construction Crew    3.01       1   LS   \n",
       "1                                   Seeding (grassing)    3.03       1   AC   \n",
       "2    Silt Fence and Hay bales (Soil erosion, sedime...    3.04       1   AC   \n",
       "3                      36\" Condensate Sump (<20' Deep)    4.04       1   EA   \n",
       "4                       Pipeline 6\" (<5' Below Ground)    5.02     704   LF   \n",
       "..                                                 ...     ...     ...  ...   \n",
       "421  Extraction Wellhead Sump for 6\" collector (Mod...   13.37       1   EA   \n",
       "422                                  Flare Abandonment   13.38       3  Day   \n",
       "423                                       Crane Rental  13.38a       2  Day   \n",
       "424                                             Lowboy  13.38b       2  Day   \n",
       "425                              6\" Leachate Collector   13.39     250   LF   \n",
       "\n",
       "        UNIT BID       AMOUNT Proposal  \n",
       "0    $10,102.00   $10,102.00       NaN  \n",
       "1     $3,938.00    $3,938.00       NaN  \n",
       "2     $1,098.00    $1,098.00       NaN  \n",
       "3    $14,026.00   $14,026.00       NaN  \n",
       "4        $29.50   $20,768.00       NaN  \n",
       "..           ...          ...      ...  \n",
       "421   $4,609.00    $4,609.00       NaN  \n",
       "422  $10,638.00   $31,914.00       NaN  \n",
       "423   $4,435.00    $8,870.00       NaN  \n",
       "424   $1,478.00    $2,956.00       NaN  \n",
       "425      $46.00   $11,500.00       NaN  \n",
       "\n",
       "[426 rows x 7 columns]"
      ]
     },
     "execution_count": 43,
     "metadata": {},
     "output_type": "execute_result"
    }
   ],
   "source": [
    "all_pipe_data"
   ]
  },
  {
   "cell_type": "markdown",
   "id": "4ad79dd9",
   "metadata": {},
   "source": [
    "Clean Pipe Data"
   ]
  },
  {
   "cell_type": "code",
   "execution_count": 45,
   "id": "b21353ee",
   "metadata": {},
   "outputs": [
    {
     "name": "stderr",
     "output_type": "stream",
     "text": [
      "C:\\Users\\Nik\\AppData\\Local\\Temp\\ipykernel_20560\\1194108444.py:10: FutureWarning: DataFrame.applymap has been deprecated. Use DataFrame.map instead.\n",
      "  all_pipe_data = all_pipe_data.applymap(lambda x: str(x).replace(',', ''))\n",
      "C:\\Users\\Nik\\AppData\\Local\\Temp\\ipykernel_20560\\1194108444.py:18: FutureWarning: DataFrame.applymap has been deprecated. Use DataFrame.map instead.\n",
      "  all_pipe_data = all_pipe_data.applymap(lambda x: x.replace('.00', '') if isinstance(x, str) else x)\n"
     ]
    },
    {
     "data": {
      "application/vnd.microsoft.datawrangler.viewer.v0+json": {
       "columns": [
        {
         "name": "index",
         "rawType": "int64",
         "type": "integer"
        },
        {
         "name": "DESCRIPTION",
         "rawType": "object",
         "type": "string"
        },
        {
         "name": "ITEM",
         "rawType": "object",
         "type": "string"
        },
        {
         "name": "BID QTY",
         "rawType": "int64",
         "type": "integer"
        },
        {
         "name": "U/M",
         "rawType": "object",
         "type": "string"
        },
        {
         "name": "UNIT BID",
         "rawType": "float64",
         "type": "float"
        },
        {
         "name": "AMOUNT",
         "rawType": "float64",
         "type": "float"
        }
       ],
       "ref": "a9688e9a-f3e3-4203-a1af-ab626bc186a2",
       "rows": [
        [
         "0",
         "Mobilization - Construction Crew",
         "3.01",
         "1",
         "LS",
         "10102.0",
         "10102.0"
        ],
        [
         "1",
         "Seeding (grassing)",
         "3.03",
         "1",
         "AC",
         "3938.0",
         "3938.0"
        ],
        [
         "2",
         "Silt Fence and Hay bales (Soil erosion sediment control)",
         "3.04",
         "1",
         "AC",
         "1098.0",
         "1098.0"
        ],
        [
         "3",
         "36\" Condensate Sump (<20' Deep)",
         "4.04",
         "1",
         "EA",
         "14026.0",
         "14026.0"
        ],
        [
         "4",
         "Pipeline 6\" (<5' Below Ground)",
         "5.02",
         "704",
         "LF",
         "29.5",
         "20768.0"
        ]
       ],
       "shape": {
        "columns": 6,
        "rows": 5
       }
      },
      "text/html": [
       "<div>\n",
       "<style scoped>\n",
       "    .dataframe tbody tr th:only-of-type {\n",
       "        vertical-align: middle;\n",
       "    }\n",
       "\n",
       "    .dataframe tbody tr th {\n",
       "        vertical-align: top;\n",
       "    }\n",
       "\n",
       "    .dataframe thead th {\n",
       "        text-align: right;\n",
       "    }\n",
       "</style>\n",
       "<table border=\"1\" class=\"dataframe\">\n",
       "  <thead>\n",
       "    <tr style=\"text-align: right;\">\n",
       "      <th></th>\n",
       "      <th>DESCRIPTION</th>\n",
       "      <th>ITEM</th>\n",
       "      <th>BID QTY</th>\n",
       "      <th>U/M</th>\n",
       "      <th>UNIT BID</th>\n",
       "      <th>AMOUNT</th>\n",
       "    </tr>\n",
       "  </thead>\n",
       "  <tbody>\n",
       "    <tr>\n",
       "      <th>0</th>\n",
       "      <td>Mobilization - Construction Crew</td>\n",
       "      <td>3.01</td>\n",
       "      <td>1</td>\n",
       "      <td>LS</td>\n",
       "      <td>10102.0</td>\n",
       "      <td>10102.0</td>\n",
       "    </tr>\n",
       "    <tr>\n",
       "      <th>1</th>\n",
       "      <td>Seeding (grassing)</td>\n",
       "      <td>3.03</td>\n",
       "      <td>1</td>\n",
       "      <td>AC</td>\n",
       "      <td>3938.0</td>\n",
       "      <td>3938.0</td>\n",
       "    </tr>\n",
       "    <tr>\n",
       "      <th>2</th>\n",
       "      <td>Silt Fence and Hay bales (Soil erosion sedimen...</td>\n",
       "      <td>3.04</td>\n",
       "      <td>1</td>\n",
       "      <td>AC</td>\n",
       "      <td>1098.0</td>\n",
       "      <td>1098.0</td>\n",
       "    </tr>\n",
       "    <tr>\n",
       "      <th>3</th>\n",
       "      <td>36\" Condensate Sump (&lt;20' Deep)</td>\n",
       "      <td>4.04</td>\n",
       "      <td>1</td>\n",
       "      <td>EA</td>\n",
       "      <td>14026.0</td>\n",
       "      <td>14026.0</td>\n",
       "    </tr>\n",
       "    <tr>\n",
       "      <th>4</th>\n",
       "      <td>Pipeline 6\" (&lt;5' Below Ground)</td>\n",
       "      <td>5.02</td>\n",
       "      <td>704</td>\n",
       "      <td>LF</td>\n",
       "      <td>29.5</td>\n",
       "      <td>20768.0</td>\n",
       "    </tr>\n",
       "  </tbody>\n",
       "</table>\n",
       "</div>"
      ],
      "text/plain": [
       "                                         DESCRIPTION  ITEM  BID QTY U/M  \\\n",
       "0                   Mobilization - Construction Crew  3.01        1  LS   \n",
       "1                                 Seeding (grassing)  3.03        1  AC   \n",
       "2  Silt Fence and Hay bales (Soil erosion sedimen...  3.04        1  AC   \n",
       "3                    36\" Condensate Sump (<20' Deep)  4.04        1  EA   \n",
       "4                     Pipeline 6\" (<5' Below Ground)  5.02      704  LF   \n",
       "\n",
       "   UNIT BID   AMOUNT  \n",
       "0   10102.0  10102.0  \n",
       "1    3938.0   3938.0  \n",
       "2    1098.0   1098.0  \n",
       "3   14026.0  14026.0  \n",
       "4      29.5  20768.0  "
      ]
     },
     "execution_count": 45,
     "metadata": {},
     "output_type": "execute_result"
    }
   ],
   "source": [
    "\"\"\"\n",
    "Cell generated by Data Wrangler.\n",
    "\"\"\"\n",
    "def clean_data(all_pipe_data):\n",
    "    # Change DESCRIPTION column type to string\n",
    "    all_pipe_data['DESCRIPTION'] = all_pipe_data['DESCRIPTION'].astype(str)\n",
    "    # Change column type to string for column: 'ITEM'\n",
    "    all_pipe_data = all_pipe_data.astype({'ITEM': 'string'})\n",
    "    # Remove commas from all columns\n",
    "    all_pipe_data = all_pipe_data.applymap(lambda x: str(x).replace(',', ''))\n",
    "    # Ensure the result is a DataFrame\n",
    "    if not isinstance(all_pipe_data, pd.DataFrame):\n",
    "        all_pipe_data = pd.DataFrame({'Answer': [all_pipe_data]})\n",
    "    # Remove \"$\" from 'UNIT BID' and 'AMOUNT' columns\n",
    "    all_pipe_data['UNIT BID'] = all_pipe_data['UNIT BID'].str.replace('$', '').str.strip()\n",
    "    all_pipe_data['AMOUNT'] = all_pipe_data['AMOUNT'].str.replace('$', '').str.strip()\n",
    "    # Remove \".00\" from all string columns\n",
    "    all_pipe_data = all_pipe_data.applymap(lambda x: x.replace('.00', '') if isinstance(x, str) else x)\n",
    "    # Ensure the result is a DataFrame\n",
    "    if not isinstance(all_pipe_data, pd.DataFrame):\n",
    "        all_pipe_data = pd.DataFrame({'Answer': [all_pipe_data]})\n",
    "    # Change column type to float64 for column: 'UNIT BID'\n",
    "    all_pipe_data = all_pipe_data.astype({'UNIT BID': 'float64'})\n",
    "    # Change column type to float64 for column: 'AMOUNT'\n",
    "    all_pipe_data = all_pipe_data.astype({'AMOUNT': 'float64'})\n",
    "    # Replace 'nan', empty strings, or actual NaN with 0 in 'BID QTY' before converting to int\n",
    "    all_pipe_data['BID QTY'] = all_pipe_data['BID QTY'].replace(['nan', '', None], 0)\n",
    "    all_pipe_data['BID QTY'] = pd.to_numeric(all_pipe_data['BID QTY'], errors='coerce').fillna(0).astype(int)\n",
    "    # Drop column: 'Proposal'\n",
    "    all_pipe_data = all_pipe_data.drop(columns=['Proposal'])\n",
    "    return all_pipe_data\n",
    "\n",
    "all_pipe_data_clean = clean_data(all_pipe_data.copy())\n",
    "all_pipe_data_clean.head()"
   ]
  }
 ],
 "metadata": {
  "kernelspec": {
   "display_name": ".venv",
   "language": "python",
   "name": "python3"
  },
  "language_info": {
   "codemirror_mode": {
    "name": "ipython",
    "version": 3
   },
   "file_extension": ".py",
   "mimetype": "text/x-python",
   "name": "python",
   "nbconvert_exporter": "python",
   "pygments_lexer": "ipython3",
   "version": "3.13.3"
  }
 },
 "nbformat": 4,
 "nbformat_minor": 5
}
